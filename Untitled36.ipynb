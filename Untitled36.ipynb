{
 "cells": [
  {
   "cell_type": "code",
   "execution_count": null,
   "id": "db9a8676",
   "metadata": {},
   "outputs": [],
   "source": [
    "1. What exactly is [ ]?\n",
    "\n",
    "Ans-[] is a empty list.\n"
   ]
  },
  {
   "cell_type": "code",
   "execution_count": 4,
   "id": "55f57f76",
   "metadata": {},
   "outputs": [],
   "source": [
    "2. In a list of values stored in a variable called spam, how would you assign \n",
    "the value hello' as the third value? (Assume [2, 4, 6, 8, 10] are in spam.)\n"
   ]
  },
  {
   "cell_type": "code",
   "execution_count": 7,
   "id": "c2816b22",
   "metadata": {},
   "outputs": [
    {
     "data": {
      "text/plain": [
       "[2, 4, 'hello', 8, 10]"
      ]
     },
     "execution_count": 7,
     "metadata": {},
     "output_type": "execute_result"
    }
   ],
   "source": [
    "#Ans- we can assign the value as third vale by changing the value of index 2.\n",
    "\n",
    "spam = [2,4,6,8,10]\n",
    "spam[2]='hello'\n",
    "spam"
   ]
  },
  {
   "cell_type": "code",
   "execution_count": null,
   "id": "205a60a9",
   "metadata": {},
   "outputs": [],
   "source": [
    "Lets pretend the spam includes the list ['a', 'b','c','d'] for the next three queries."
   ]
  },
  {
   "cell_type": "code",
   "execution_count": null,
   "id": "2c307176",
   "metadata": {},
   "outputs": [],
   "source": [
    "3. What is the value of spam[int(int(3 * 2) / 11)]?"
   ]
  },
  {
   "cell_type": "code",
   "execution_count": 13,
   "id": "92f9a3f4",
   "metadata": {},
   "outputs": [
    {
     "name": "stdout",
     "output_type": "stream",
     "text": [
      "d\n"
     ]
    }
   ],
   "source": [
    "#Ans-\n",
    "spam =  ['a', 'b','c','d']\n",
    "print(spam[int(int(\"3\" * 2) / 11)])"
   ]
  },
  {
   "cell_type": "code",
   "execution_count": null,
   "id": "6faf4c4c",
   "metadata": {},
   "outputs": [],
   "source": [
    "4. What is the value of spam[-1]?"
   ]
  },
  {
   "cell_type": "code",
   "execution_count": 11,
   "id": "dff839d4",
   "metadata": {},
   "outputs": [
    {
     "name": "stdout",
     "output_type": "stream",
     "text": [
      "d\n"
     ]
    }
   ],
   "source": [
    "#Ans-\n",
    "spam =  ['a', 'b','c','d']\n",
    "print(spam[-1])"
   ]
  },
  {
   "cell_type": "code",
   "execution_count": null,
   "id": "dd6d144b",
   "metadata": {},
   "outputs": [],
   "source": [
    "5. What is the value of spam[:2]?"
   ]
  },
  {
   "cell_type": "code",
   "execution_count": 14,
   "id": "70835953",
   "metadata": {},
   "outputs": [
    {
     "name": "stdout",
     "output_type": "stream",
     "text": [
      "['a', 'b']\n"
     ]
    }
   ],
   "source": [
    "#Ans-\n",
    "spam =  ['a', 'b','c','d']\n",
    "print(spam[:2])"
   ]
  },
  {
   "cell_type": "code",
   "execution_count": null,
   "id": "f3db83ae",
   "metadata": {},
   "outputs": [],
   "source": [
    "Let's pretend bacon has the list [3.14,'cat',11,'cat',True] for the next three question"
   ]
  },
  {
   "cell_type": "code",
   "execution_count": null,
   "id": "dffab69f",
   "metadata": {},
   "outputs": [],
   "source": [
    "6.What is the value of bacon.index('cat')?"
   ]
  },
  {
   "cell_type": "code",
   "execution_count": 15,
   "id": "00317063",
   "metadata": {},
   "outputs": [
    {
     "data": {
      "text/plain": [
       "1"
      ]
     },
     "execution_count": 15,
     "metadata": {},
     "output_type": "execute_result"
    }
   ],
   "source": [
    "#Ans-\n",
    "bacon = [3.14,'cat',11,'cat',True]\n",
    "bacon.index('cat')"
   ]
  },
  {
   "cell_type": "code",
   "execution_count": null,
   "id": "0067ac76",
   "metadata": {},
   "outputs": [],
   "source": [
    "7.How does bacon.append(99) change the look of the list value in bacon?"
   ]
  },
  {
   "cell_type": "code",
   "execution_count": 17,
   "id": "8b8f662d",
   "metadata": {},
   "outputs": [
    {
     "data": {
      "text/plain": [
       "[3.14, 'cat', 11, 'cat', True, 99]"
      ]
     },
     "execution_count": 17,
     "metadata": {},
     "output_type": "execute_result"
    }
   ],
   "source": [
    "#Ans-\n",
    "bacon = [3.14,'cat',11,'cat',True]\n",
    "bacon.append(99)\n",
    "bacon"
   ]
  },
  {
   "cell_type": "code",
   "execution_count": null,
   "id": "db1723c8",
   "metadata": {},
   "outputs": [],
   "source": [
    "8.How does bacon.remove('cat') change the look of the list in bacon?"
   ]
  },
  {
   "cell_type": "code",
   "execution_count": 19,
   "id": "4bc69e7d",
   "metadata": {},
   "outputs": [
    {
     "data": {
      "text/plain": [
       "[3.14, 11, 'cat', True]"
      ]
     },
     "execution_count": 19,
     "metadata": {},
     "output_type": "execute_result"
    }
   ],
   "source": [
    "#Ans-\n",
    "bacon = [3.14,'cat',11,'cat',True]\n",
    "bacon.remove('cat')\n",
    "bacon"
   ]
  },
  {
   "cell_type": "code",
   "execution_count": null,
   "id": "51f5f88f",
   "metadata": {},
   "outputs": [],
   "source": [
    "9. What are the list concatenation and list replication operators?\n",
    " \n",
    "Ans- ( + ) is the list concatenation operator and ( * ) is list \n",
    "    replication operator."
   ]
  },
  {
   "cell_type": "code",
   "execution_count": 23,
   "id": "723de7c6",
   "metadata": {},
   "outputs": [
    {
     "name": "stdout",
     "output_type": "stream",
     "text": [
      "[1, 2, 4, 6]\n",
      "[1, 2, 1, 2, 1, 2]\n"
     ]
    }
   ],
   "source": [
    "#eg - list concatenation operator\n",
    "a = [1,2]\n",
    "\n",
    "b = [4,6]\n",
    "\n",
    "print(a+b)\n",
    "\n",
    "#eg - list replication operator \n",
    "a = [1,2]\n",
    "\n",
    "print(a*3)"
   ]
  },
  {
   "cell_type": "code",
   "execution_count": null,
   "id": "3eda6c80",
   "metadata": {},
   "outputs": [],
   "source": [
    "10. What is difference between the list methods append() and insert()?\n",
    "\n",
    "Ans-The only difference between append() and insert() is that insert \n",
    "function allows us to add a specific element at a specified index of \n",
    "the list unlike append() where we can add the element only at end of \n",
    "the list."
   ]
  },
  {
   "cell_type": "code",
   "execution_count": 27,
   "id": "5915667e",
   "metadata": {},
   "outputs": [
    {
     "data": {
      "text/plain": [
       "[2, 3, 'bull', True, 'hello']"
      ]
     },
     "execution_count": 27,
     "metadata": {},
     "output_type": "execute_result"
    }
   ],
   "source": [
    "#eg- \n",
    "l = [2,3,\"bull\",True]\n",
    "l.append('hello')\n",
    "l"
   ]
  },
  {
   "cell_type": "code",
   "execution_count": 28,
   "id": "e8099c93",
   "metadata": {},
   "outputs": [
    {
     "data": {
      "text/plain": [
       "[2, 5, 'hello', 7, 'False', 3.45]"
      ]
     },
     "execution_count": 28,
     "metadata": {},
     "output_type": "execute_result"
    }
   ],
   "source": [
    "#eg-\n",
    "l1 = [2,5,7,'False',3.45]\n",
    "l1.insert(2,'hello')\n",
    "l1"
   ]
  },
  {
   "cell_type": "code",
   "execution_count": null,
   "id": "27a79a5a",
   "metadata": {},
   "outputs": [],
   "source": [
    "11. What are the two methods for removing items from a list?"
   ]
  },
  {
   "cell_type": "code",
   "execution_count": null,
   "id": "9e764846",
   "metadata": {},
   "outputs": [],
   "source": [
    "Ans- remove() - It removes the first matching value instead of \n",
    "                the index, and the value is passed as an argument.\n",
    "     pop() -  It is always preferred to use pop() when you have \n",
    "              to delete the last element of the list."
   ]
  },
  {
   "cell_type": "code",
   "execution_count": 31,
   "id": "1edcad20",
   "metadata": {},
   "outputs": [
    {
     "name": "stdout",
     "output_type": "stream",
     "text": [
      "[0, 3, 2]\n",
      "[4, 3]\n"
     ]
    }
   ],
   "source": [
    "#eg- remove()\n",
    "list1 = [0, 2, 3, 2]\n",
    "list1.remove(2)\n",
    "print(list1)\n",
    "\n",
    "#eg- pop()\n",
    "list2 = [4, 3, 5]\n",
    "list2.pop()\n",
    "print(list2)"
   ]
  },
  {
   "cell_type": "code",
   "execution_count": null,
   "id": "c46d8f8d",
   "metadata": {},
   "outputs": [],
   "source": [
    "12.Describe how list values and string values are identical."
   ]
  },
  {
   "cell_type": "code",
   "execution_count": null,
   "id": "bf8b4f3f",
   "metadata": {},
   "outputs": [],
   "source": [
    "Ans- 1 both list and string can be passed to len().\n",
    "     2 both have slices and indexes\n",
    "     3 both can be used in for loops.\n",
    "     4 both can be concatenated or replicated.\n",
    "     5 both can be used with in and not in operators.\n",
    "    "
   ]
  },
  {
   "cell_type": "code",
   "execution_count": null,
   "id": "10e09e96",
   "metadata": {},
   "outputs": [],
   "source": [
    "13. What's the difference between tuples and lists?\n",
    "\n",
    "Ans- Lists are Mutable, Indexable and Slicable. they can have \n",
    "values added, removed, or changed. Tuples are Immutable but Indexable\n",
    "and Slicable. the tuple values cannot be changed at all. Also, \n",
    "tuples are represented using parentheses, (), while lists use the\n",
    "square brackets, []."
   ]
  },
  {
   "cell_type": "code",
   "execution_count": null,
   "id": "0ee78a92",
   "metadata": {},
   "outputs": [],
   "source": [
    "14. How do you type a tuple value that only contains the integer 42?\n",
    "\n",
    "Ans- (42,) The trailing comma is mandatory. otherwise its considered as\n",
    "a int by python Interpreter"
   ]
  },
  {
   "cell_type": "code",
   "execution_count": 32,
   "id": "609aaefa",
   "metadata": {},
   "outputs": [
    {
     "name": "stdout",
     "output_type": "stream",
     "text": [
      "<class 'int'>\n",
      "<class 'tuple'>\n"
     ]
    }
   ],
   "source": [
    "#eg-\n",
    "t1 = (42)\n",
    "t2 = (42,)\n",
    "print(type(t1))\n",
    "print(type(t2))"
   ]
  },
  {
   "cell_type": "code",
   "execution_count": null,
   "id": "758b4d03",
   "metadata": {},
   "outputs": [],
   "source": [
    "15. How do you get a list value's tuple form? How do you get a tuple value's list form?\n",
    "\n",
    "Ans- The tuple() and list() functions, respectively are used to convert a list to tuple and \n",
    "     vice versa\n",
    "\n"
   ]
  },
  {
   "cell_type": "code",
   "execution_count": 38,
   "id": "4dbfed12",
   "metadata": {},
   "outputs": [
    {
     "data": {
      "text/plain": [
       "[1, 3, 2, 'helloTrue']"
      ]
     },
     "execution_count": 38,
     "metadata": {},
     "output_type": "execute_result"
    }
   ],
   "source": [
    "#eg-\n",
    "t1 = (1,3,2,'hello''True')\n",
    "list(t1)\n"
   ]
  },
  {
   "cell_type": "code",
   "execution_count": 39,
   "id": "23c79079",
   "metadata": {},
   "outputs": [
    {
     "data": {
      "text/plain": [
       "(1, 2, 3, 'bull', 'false')"
      ]
     },
     "execution_count": 39,
     "metadata": {},
     "output_type": "execute_result"
    }
   ],
   "source": [
    "#eg-\n",
    "l1 = [1,2,3,'bull','false']\n",
    "tuple(l1)"
   ]
  },
  {
   "cell_type": "code",
   "execution_count": null,
   "id": "8340d67a",
   "metadata": {},
   "outputs": [],
   "source": [
    "16. Variables that \"contain\" list values are not necessarily lists themselves. Instead, what do they contain?\n",
    "\n",
    "Ans- They contain references to list values.\n",
    "\n"
   ]
  },
  {
   "cell_type": "code",
   "execution_count": null,
   "id": "6f674b88",
   "metadata": {},
   "outputs": [],
   "source": [
    "17. How do you distinguish between copy.copy() and copy.deepcopy()?\n",
    "\n",
    "Ans- copy() create reference to original object. If you change copied \n",
    "object - you change the original object.\n",
    "\n",
    "deepcopy() creates new object and does real copying of original object\n",
    "to new one."
   ]
  }
 ],
 "metadata": {
  "kernelspec": {
   "display_name": "Python 3 (ipykernel)",
   "language": "python",
   "name": "python3"
  },
  "language_info": {
   "codemirror_mode": {
    "name": "ipython",
    "version": 3
   },
   "file_extension": ".py",
   "mimetype": "text/x-python",
   "name": "python",
   "nbconvert_exporter": "python",
   "pygments_lexer": "ipython3",
   "version": "3.9.12"
  }
 },
 "nbformat": 4,
 "nbformat_minor": 5
}
